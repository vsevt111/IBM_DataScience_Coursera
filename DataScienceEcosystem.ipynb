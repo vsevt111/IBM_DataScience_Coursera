{
 "cells": [
  {
   "cell_type": "markdown",
   "id": "3f9456ac-2fc1-4344-adb3-577f56140ebd",
   "metadata": {},
   "source": [
    "# Data Science Tools and Ecosystem"
   ]
  },
  {
   "cell_type": "markdown",
   "id": "637735e2-35ba-4371-b627-4c78c0837164",
   "metadata": {},
   "source": [
    "In this notebook, Data Science Tools and Ecosystem are summarized."
   ]
  },
  {
   "cell_type": "markdown",
   "id": "8c691655-8989-4d6e-9440-3aab806dcaf8",
   "metadata": {},
   "source": [
    "Some of the popular languages that Data Scientists use are:\n",
    "1. Python\n",
    "2. R\n",
    "3. Java"
   ]
  },
  {
   "cell_type": "markdown",
   "id": "631517eb-070a-4efd-bbb8-826605c96832",
   "metadata": {},
   "source": [
    "Some of the commonly used libraries used by Data Scientists include:\n",
    "1. SciKitlearn\n",
    "2. TensorFlow\n",
    "3. PyTorch\n",
    "4. caret\n",
    "5. Weka\n",
    "6. SciPy\n",
    "7. Numpy\n",
    "8. Pandas"
   ]
  },
  {
   "cell_type": "markdown",
   "id": "c65e4591-453e-4a9e-a0f6-f5e574a1bd1f",
   "metadata": {},
   "source": [
    "|Data Science Tools|\n",
    "|----------------|\n",
    "|Jupyter Notebook|\n",
    "|Google Colab|\n",
    "|IBM Watson Studio|"
   ]
  },
  {
   "cell_type": "markdown",
   "id": "615bb8d0-c3b8-4643-87ac-2bd36bcd8df9",
   "metadata": {},
   "source": [
    "### Below are a few examples of evaluating arithmetic expressions in Python"
   ]
  },
  {
   "cell_type": "code",
   "execution_count": 1,
   "id": "093495a3-6103-4e98-881d-67ff96462255",
   "metadata": {},
   "outputs": [
    {
     "data": {
      "text/plain": [
       "17"
      ]
     },
     "execution_count": 1,
     "metadata": {},
     "output_type": "execute_result"
    }
   ],
   "source": [
    "# This a simple arithmetic expression to mutiply then add integers\n",
    "(3*4)+5"
   ]
  },
  {
   "cell_type": "code",
   "execution_count": 2,
   "id": "b0c43e50-849b-4569-a0b8-f75f90459a5b",
   "metadata": {},
   "outputs": [
    {
     "data": {
      "text/plain": [
       "3.3333333333333335"
      ]
     },
     "execution_count": 2,
     "metadata": {},
     "output_type": "execute_result"
    }
   ],
   "source": [
    "# This will convert 200 minutes to hours by diving by 60\n",
    "200/60"
   ]
  },
  {
   "cell_type": "markdown",
   "id": "3cff0a7d-115c-4803-a824-ab21f2ae8a23",
   "metadata": {},
   "source": [
    "**Objectives:**\n",
    "- Python\n",
    "- SQL\n",
    "- R\n",
    "- C++\n",
    "- C\n",
    "- Java"
   ]
  },
  {
   "cell_type": "markdown",
   "id": "c1bb4f54-96ad-4876-98f7-efeebad16c39",
   "metadata": {},
   "source": [
    "## Author\n",
    "Manin Tangkunathan"
   ]
  }
 ],
 "metadata": {
  "kernelspec": {
   "display_name": "Python 3 (ipykernel)",
   "language": "python",
   "name": "python3"
  },
  "language_info": {
   "codemirror_mode": {
    "name": "ipython",
    "version": 3
   },
   "file_extension": ".py",
   "mimetype": "text/x-python",
   "name": "python",
   "nbconvert_exporter": "python",
   "pygments_lexer": "ipython3",
   "version": "3.11.7"
  }
 },
 "nbformat": 4,
 "nbformat_minor": 5
}
